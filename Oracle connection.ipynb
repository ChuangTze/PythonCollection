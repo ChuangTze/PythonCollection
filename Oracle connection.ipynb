{
 "cells": [
  {
   "cell_type": "code",
   "execution_count": 91,
   "metadata": {},
   "outputs": [
    {
     "data": {
      "text/plain": [
       "'11.2.0.4.0'"
      ]
     },
     "execution_count": 91,
     "metadata": {},
     "output_type": "execute_result"
    }
   ],
   "source": [
    "import cx_Oracle as o\n",
    "#define a connection string (User, password, DSN)\n",
    "con = o.connect('GLquery','try2balance','MISC')\n",
    "#to check connection is working\n",
    "con.version"
   ]
  },
  {
   "cell_type": "code",
   "execution_count": 92,
   "metadata": {
    "collapsed": true
   },
   "outputs": [],
   "source": [
    "# make a sql cursor and use it to call a query\n",
    "cur = con.cursor()\n",
    "fd = open('pennyskuswebvisible.sql', 'r')\n",
    "sqlFile = fd.read()\n",
    "fd.close()"
   ]
  },
  {
   "cell_type": "code",
   "execution_count": 93,
   "metadata": {
    "scrolled": false
   },
   "outputs": [
    {
     "data": {
      "text/plain": [
       "list"
      ]
     },
     "execution_count": 93,
     "metadata": {},
     "output_type": "execute_result"
    }
   ],
   "source": [
    "cur.execute(sqlFile)\n",
    "# fetch the first row of the query\n",
    "row = cur.fetchall()\n",
    "#show the datatype of the row\n",
    "type(row)\n",
    "#it's a tuple. Let's print it\n",
    "#print(row)"
   ]
  },
  {
   "cell_type": "code",
   "execution_count": 94,
   "metadata": {
    "collapsed": true
   },
   "outputs": [],
   "source": [
    "#dataframes can be made from lists of tuples, here is a list of one tuple\n",
    "\n",
    "#now we make a dataframe out of it\n",
    "import pandas as pd\n",
    "df = pd.DataFrame(row)"
   ]
  },
  {
   "cell_type": "code",
   "execution_count": 95,
   "metadata": {},
   "outputs": [
    {
     "data": {
      "text/html": [
       "<div>\n",
       "<style>\n",
       "    .dataframe thead tr:only-child th {\n",
       "        text-align: right;\n",
       "    }\n",
       "\n",
       "    .dataframe thead th {\n",
       "        text-align: left;\n",
       "    }\n",
       "\n",
       "    .dataframe tbody tr th {\n",
       "        vertical-align: top;\n",
       "    }\n",
       "</style>\n",
       "<table border=\"1\" class=\"dataframe\">\n",
       "  <thead>\n",
       "    <tr style=\"text-align: right;\">\n",
       "      <th></th>\n",
       "      <th>0</th>\n",
       "      <th>1</th>\n",
       "      <th>2</th>\n",
       "      <th>3</th>\n",
       "      <th>4</th>\n",
       "    </tr>\n",
       "  </thead>\n",
       "  <tbody>\n",
       "    <tr>\n",
       "      <th>0</th>\n",
       "      <td>UY7349</td>\n",
       "      <td>JIA GAO</td>\n",
       "      <td>200</td>\n",
       "      <td>2017-08-24 13:51:32</td>\n",
       "      <td>2017-08-24 13:50:42</td>\n",
       "    </tr>\n",
       "    <tr>\n",
       "      <th>1</th>\n",
       "      <td>UY7352</td>\n",
       "      <td>JIA GAO</td>\n",
       "      <td>200</td>\n",
       "      <td>2017-08-24 13:55:45</td>\n",
       "      <td>2017-08-24 13:55:09</td>\n",
       "    </tr>\n",
       "    <tr>\n",
       "      <th>2</th>\n",
       "      <td>UY7360</td>\n",
       "      <td>JIA GAO</td>\n",
       "      <td>100</td>\n",
       "      <td>2017-08-24 14:26:17</td>\n",
       "      <td>2017-08-24 14:25:54</td>\n",
       "    </tr>\n",
       "    <tr>\n",
       "      <th>3</th>\n",
       "      <td>UY7360</td>\n",
       "      <td>JIA GAO</td>\n",
       "      <td>200</td>\n",
       "      <td>2017-08-24 14:26:17</td>\n",
       "      <td>2017-08-24 14:25:54</td>\n",
       "    </tr>\n",
       "    <tr>\n",
       "      <th>4</th>\n",
       "      <td>UY7459</td>\n",
       "      <td>DAVID CESARE LAVALLE</td>\n",
       "      <td>100</td>\n",
       "      <td>2017-08-24 19:30:21</td>\n",
       "      <td>2017-08-24 19:29:54</td>\n",
       "    </tr>\n",
       "    <tr>\n",
       "      <th>5</th>\n",
       "      <td>UY7460</td>\n",
       "      <td>DAVID CESARE LAVALLE</td>\n",
       "      <td>100</td>\n",
       "      <td>2017-08-24 19:33:05</td>\n",
       "      <td>2017-08-24 19:32:45</td>\n",
       "    </tr>\n",
       "  </tbody>\n",
       "</table>\n",
       "</div>"
      ],
      "text/plain": [
       "        0                     1    2                   3                   4\n",
       "0  UY7349               JIA GAO  200 2017-08-24 13:51:32 2017-08-24 13:50:42\n",
       "1  UY7352               JIA GAO  200 2017-08-24 13:55:45 2017-08-24 13:55:09\n",
       "2  UY7360               JIA GAO  100 2017-08-24 14:26:17 2017-08-24 14:25:54\n",
       "3  UY7360               JIA GAO  200 2017-08-24 14:26:17 2017-08-24 14:25:54\n",
       "4  UY7459  DAVID CESARE LAVALLE  100 2017-08-24 19:30:21 2017-08-24 19:29:54\n",
       "5  UY7460  DAVID CESARE LAVALLE  100 2017-08-24 19:33:05 2017-08-24 19:32:45"
      ]
     },
     "execution_count": 95,
     "metadata": {},
     "output_type": "execute_result"
    }
   ],
   "source": [
    "#here's our dataframe\n",
    "df"
   ]
  },
  {
   "cell_type": "code",
   "execution_count": 96,
   "metadata": {
    "collapsed": true
   },
   "outputs": [],
   "source": [
    "# Get our headers for our query\n",
    "stuff = cur.description\n",
    "dfhead= [x[0] for x in stuff]\n",
    "dfhead= tuple(dfhead)"
   ]
  },
  {
   "cell_type": "code",
   "execution_count": 97,
   "metadata": {},
   "outputs": [
    {
     "data": {
      "text/plain": [
       "[('ITEM', 'cre_user name', 'IMVDIV', 'MOD_DATE', 'CRE_DATE')]"
      ]
     },
     "execution_count": 97,
     "metadata": {},
     "output_type": "execute_result"
    }
   ],
   "source": [
    "# make our headers tuple into a a list of tuples (so we can make it into a dataframe)\n",
    "dfhead = [dfhead]\n",
    "dfhead"
   ]
  },
  {
   "cell_type": "code",
   "execution_count": 98,
   "metadata": {
    "collapsed": true
   },
   "outputs": [],
   "source": [
    "dfhead = pd.DataFrame(dfhead)"
   ]
  },
  {
   "cell_type": "code",
   "execution_count": 99,
   "metadata": {},
   "outputs": [
    {
     "data": {
      "text/html": [
       "<div>\n",
       "<style>\n",
       "    .dataframe thead tr:only-child th {\n",
       "        text-align: right;\n",
       "    }\n",
       "\n",
       "    .dataframe thead th {\n",
       "        text-align: left;\n",
       "    }\n",
       "\n",
       "    .dataframe tbody tr th {\n",
       "        vertical-align: top;\n",
       "    }\n",
       "</style>\n",
       "<table border=\"1\" class=\"dataframe\">\n",
       "  <thead>\n",
       "    <tr style=\"text-align: right;\">\n",
       "      <th></th>\n",
       "      <th>0</th>\n",
       "      <th>1</th>\n",
       "      <th>2</th>\n",
       "      <th>3</th>\n",
       "      <th>4</th>\n",
       "    </tr>\n",
       "  </thead>\n",
       "  <tbody>\n",
       "    <tr>\n",
       "      <th>0</th>\n",
       "      <td>ITEM</td>\n",
       "      <td>cre_user name</td>\n",
       "      <td>IMVDIV</td>\n",
       "      <td>MOD_DATE</td>\n",
       "      <td>CRE_DATE</td>\n",
       "    </tr>\n",
       "    <tr>\n",
       "      <th>1</th>\n",
       "      <td>UY7349</td>\n",
       "      <td>JIA GAO</td>\n",
       "      <td>200</td>\n",
       "      <td>2017-08-24 13:51:32</td>\n",
       "      <td>2017-08-24 13:50:42</td>\n",
       "    </tr>\n",
       "    <tr>\n",
       "      <th>2</th>\n",
       "      <td>UY7352</td>\n",
       "      <td>JIA GAO</td>\n",
       "      <td>200</td>\n",
       "      <td>2017-08-24 13:55:45</td>\n",
       "      <td>2017-08-24 13:55:09</td>\n",
       "    </tr>\n",
       "    <tr>\n",
       "      <th>3</th>\n",
       "      <td>UY7360</td>\n",
       "      <td>JIA GAO</td>\n",
       "      <td>100</td>\n",
       "      <td>2017-08-24 14:26:17</td>\n",
       "      <td>2017-08-24 14:25:54</td>\n",
       "    </tr>\n",
       "    <tr>\n",
       "      <th>4</th>\n",
       "      <td>UY7360</td>\n",
       "      <td>JIA GAO</td>\n",
       "      <td>200</td>\n",
       "      <td>2017-08-24 14:26:17</td>\n",
       "      <td>2017-08-24 14:25:54</td>\n",
       "    </tr>\n",
       "    <tr>\n",
       "      <th>5</th>\n",
       "      <td>UY7459</td>\n",
       "      <td>DAVID CESARE LAVALLE</td>\n",
       "      <td>100</td>\n",
       "      <td>2017-08-24 19:30:21</td>\n",
       "      <td>2017-08-24 19:29:54</td>\n",
       "    </tr>\n",
       "    <tr>\n",
       "      <th>6</th>\n",
       "      <td>UY7460</td>\n",
       "      <td>DAVID CESARE LAVALLE</td>\n",
       "      <td>100</td>\n",
       "      <td>2017-08-24 19:33:05</td>\n",
       "      <td>2017-08-24 19:32:45</td>\n",
       "    </tr>\n",
       "  </tbody>\n",
       "</table>\n",
       "</div>"
      ],
      "text/plain": [
       "        0                     1       2                    3  \\\n",
       "0    ITEM         cre_user name  IMVDIV             MOD_DATE   \n",
       "1  UY7349               JIA GAO     200  2017-08-24 13:51:32   \n",
       "2  UY7352               JIA GAO     200  2017-08-24 13:55:45   \n",
       "3  UY7360               JIA GAO     100  2017-08-24 14:26:17   \n",
       "4  UY7360               JIA GAO     200  2017-08-24 14:26:17   \n",
       "5  UY7459  DAVID CESARE LAVALLE     100  2017-08-24 19:30:21   \n",
       "6  UY7460  DAVID CESARE LAVALLE     100  2017-08-24 19:33:05   \n",
       "\n",
       "                     4  \n",
       "0             CRE_DATE  \n",
       "1  2017-08-24 13:50:42  \n",
       "2  2017-08-24 13:55:09  \n",
       "3  2017-08-24 14:25:54  \n",
       "4  2017-08-24 14:25:54  \n",
       "5  2017-08-24 19:29:54  \n",
       "6  2017-08-24 19:32:45  "
      ]
     },
     "execution_count": 99,
     "metadata": {},
     "output_type": "execute_result"
    }
   ],
   "source": [
    "#concatenate frames and ignore the index\n",
    "frames = [dfhead, df]\n",
    "completedf = pd.concat(frames, ignore_index=True)\n",
    "completedf"
   ]
  },
  {
   "cell_type": "code",
   "execution_count": 100,
   "metadata": {},
   "outputs": [
    {
     "data": {
      "text/html": [
       "<div>\n",
       "<style>\n",
       "    .dataframe thead tr:only-child th {\n",
       "        text-align: right;\n",
       "    }\n",
       "\n",
       "    .dataframe thead th {\n",
       "        text-align: left;\n",
       "    }\n",
       "\n",
       "    .dataframe tbody tr th {\n",
       "        vertical-align: top;\n",
       "    }\n",
       "</style>\n",
       "<table border=\"1\" class=\"dataframe\">\n",
       "  <thead>\n",
       "    <tr style=\"text-align: right;\">\n",
       "      <th></th>\n",
       "      <th>ITEM</th>\n",
       "      <th>cre_user name</th>\n",
       "      <th>IMVDIV</th>\n",
       "      <th>MOD_DATE</th>\n",
       "      <th>CRE_DATE</th>\n",
       "    </tr>\n",
       "  </thead>\n",
       "  <tbody>\n",
       "    <tr>\n",
       "      <th>1</th>\n",
       "      <td>UY7349</td>\n",
       "      <td>JIA GAO</td>\n",
       "      <td>200</td>\n",
       "      <td>2017-08-24 13:51:32</td>\n",
       "      <td>2017-08-24 13:50:42</td>\n",
       "    </tr>\n",
       "    <tr>\n",
       "      <th>2</th>\n",
       "      <td>UY7352</td>\n",
       "      <td>JIA GAO</td>\n",
       "      <td>200</td>\n",
       "      <td>2017-08-24 13:55:45</td>\n",
       "      <td>2017-08-24 13:55:09</td>\n",
       "    </tr>\n",
       "    <tr>\n",
       "      <th>3</th>\n",
       "      <td>UY7360</td>\n",
       "      <td>JIA GAO</td>\n",
       "      <td>100</td>\n",
       "      <td>2017-08-24 14:26:17</td>\n",
       "      <td>2017-08-24 14:25:54</td>\n",
       "    </tr>\n",
       "    <tr>\n",
       "      <th>4</th>\n",
       "      <td>UY7360</td>\n",
       "      <td>JIA GAO</td>\n",
       "      <td>200</td>\n",
       "      <td>2017-08-24 14:26:17</td>\n",
       "      <td>2017-08-24 14:25:54</td>\n",
       "    </tr>\n",
       "    <tr>\n",
       "      <th>5</th>\n",
       "      <td>UY7459</td>\n",
       "      <td>DAVID CESARE LAVALLE</td>\n",
       "      <td>100</td>\n",
       "      <td>2017-08-24 19:30:21</td>\n",
       "      <td>2017-08-24 19:29:54</td>\n",
       "    </tr>\n",
       "    <tr>\n",
       "      <th>6</th>\n",
       "      <td>UY7460</td>\n",
       "      <td>DAVID CESARE LAVALLE</td>\n",
       "      <td>100</td>\n",
       "      <td>2017-08-24 19:33:05</td>\n",
       "      <td>2017-08-24 19:32:45</td>\n",
       "    </tr>\n",
       "  </tbody>\n",
       "</table>\n",
       "</div>"
      ],
      "text/plain": [
       "0    ITEM         cre_user name IMVDIV             MOD_DATE  \\\n",
       "1  UY7349               JIA GAO    200  2017-08-24 13:51:32   \n",
       "2  UY7352               JIA GAO    200  2017-08-24 13:55:45   \n",
       "3  UY7360               JIA GAO    100  2017-08-24 14:26:17   \n",
       "4  UY7360               JIA GAO    200  2017-08-24 14:26:17   \n",
       "5  UY7459  DAVID CESARE LAVALLE    100  2017-08-24 19:30:21   \n",
       "6  UY7460  DAVID CESARE LAVALLE    100  2017-08-24 19:33:05   \n",
       "\n",
       "0             CRE_DATE  \n",
       "1  2017-08-24 13:50:42  \n",
       "2  2017-08-24 13:55:09  \n",
       "3  2017-08-24 14:25:54  \n",
       "4  2017-08-24 14:25:54  \n",
       "5  2017-08-24 19:29:54  \n",
       "6  2017-08-24 19:32:45  "
      ]
     },
     "execution_count": 100,
     "metadata": {},
     "output_type": "execute_result"
    }
   ],
   "source": [
    "#make header out of first row and get rid of first row\n",
    "completedf.columns = completedf.iloc[0]\n",
    "completedf.drop(0, inplace = True)\n",
    "completedf"
   ]
  },
  {
   "cell_type": "code",
   "execution_count": 101,
   "metadata": {
    "collapsed": true
   },
   "outputs": [],
   "source": [
    "thing = completedf.to_html('df.html')\n",
    "#thing2 = completedf.to_csv('df.csv')"
   ]
  },
  {
   "cell_type": "code",
   "execution_count": 102,
   "metadata": {
    "collapsed": true
   },
   "outputs": [],
   "source": [
    "############## Make HTML out of it\n",
    "#close your cursor\n",
    "cur.close()\n",
    "#close your connection (very important!)\n",
    "con.close()"
   ]
  },
  {
   "cell_type": "code",
   "execution_count": 103,
   "metadata": {
    "collapsed": true
   },
   "outputs": [],
   "source": [
    "import codecs\n",
    "M_sMessage = codecs.open('df.html','r')\n",
    "M_sMessage = M_sMessage.read()\n",
    "#M_sMessage\n"
   ]
  },
  {
   "cell_type": "code",
   "execution_count": 104,
   "metadata": {
    "collapsed": true
   },
   "outputs": [],
   "source": [
    "import os\n",
    "import sys\n",
    "import smtplib\n",
    "from email.mime.multipart import MIMEMultipart\n",
    "from email.mime.text import MIMEText\n",
    "from email.mime.base import MIMEBase\n",
    "from email import encoders\n",
    "import time"
   ]
  },
  {
   "cell_type": "code",
   "execution_count": null,
   "metadata": {},
   "outputs": [],
   "source": [
    "me = \"margu@Softchoice.com\"\n",
    "you = \"margu@softchoice.com\"\n",
    "\n",
    "msg = MIMEMultipart()\n",
    "msg['Subject'] = \"Penny Skus\"\n",
    "msg['From'] = me\n",
    "msg['To'] = you\n",
    "\n",
    "def job():\n",
    "    text = \"Here's your penny skus that are web visible for today\"\n",
    "    #text = \"Here's your error report\"\n",
    "    L_sMessage =(text + \"\\n\\n\\n\\n\" + M_sMessage)\n",
    "\n",
    "    part1 = MIMEText(L_sMessage, 'html')\n",
    "    #part2 = MIMEBase('application', \"octet-stream\")\n",
    "    #part2.set_payload(open('df.csv', 'w').read())\n",
    "    #encoders.encode_base64(part2)\n",
    "\n",
    "    msg.attach(part1)\n",
    "    #msg.attach(part2)\n",
    "    msg.attach\n",
    "\n",
    "\n",
    "    s = smtplib.SMTP('mail.softchoice.com')\n",
    "    s.sendmail(me, you, msg.as_string())\n",
    "    s.quit()\n",
    "    time.sleep(60)\n",
    "\n",
    "variable = 0\n",
    "while variable < 3:\n",
    "    job()\n",
    "    variable = variable + 1"
   ]
  },
  {
   "cell_type": "code",
   "execution_count": 60,
   "metadata": {},
   "outputs": [
    {
     "name": "stdout",
     "output_type": "stream",
     "text": [
      "1503669381.2488582\n",
      "From print_time 1503669386.2495368 default\n",
      "From print_time 1503669391.2496238 default\n",
      "1503669391.2496238\n"
     ]
    }
   ],
   "source": []
  },
  {
   "cell_type": "code",
   "execution_count": null,
   "metadata": {
    "collapsed": true
   },
   "outputs": [],
   "source": []
  },
  {
   "cell_type": "code",
   "execution_count": null,
   "metadata": {
    "collapsed": true
   },
   "outputs": [],
   "source": []
  },
  {
   "cell_type": "code",
   "execution_count": null,
   "metadata": {
    "collapsed": true
   },
   "outputs": [],
   "source": []
  },
  {
   "cell_type": "code",
   "execution_count": null,
   "metadata": {
    "collapsed": true
   },
   "outputs": [],
   "source": []
  }
 ],
 "metadata": {
  "kernelspec": {
   "display_name": "Python 3",
   "language": "python",
   "name": "python3"
  },
  "language_info": {
   "codemirror_mode": {
    "name": "ipython",
    "version": 3
   },
   "file_extension": ".py",
   "mimetype": "text/x-python",
   "name": "python",
   "nbconvert_exporter": "python",
   "pygments_lexer": "ipython3",
   "version": "3.6.2"
  }
 },
 "nbformat": 4,
 "nbformat_minor": 2
}
