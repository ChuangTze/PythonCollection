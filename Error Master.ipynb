{
 "cells": [
  {
   "cell_type": "code",
   "execution_count": 2,
   "metadata": {
    "collapsed": true
   },
   "outputs": [],
   "source": [
    "import csv\n",
    "from openpyxl import Workbook\n",
    "\n",
    "wb1 = Workbook()\n",
    "ws1 = wb1.active\n",
    "\n",
    "with open('DailyErrorReport 2017-01.csv', 'r') as f1:\n",
    "    for row in csv.reader(f1):\n",
    "        ws1.append(row)\n",
    "wb1.save('Error1.xlsx')\n",
    "\n",
    "things = ['2','3','4','5','6','7','8']\n",
    "\n",
    "for thing in things: \n",
    "    wb = Workbook()\n",
    "    ws = wb.active\n",
    "    with open('DailyErrorReport 2017-0'+thing+'.csv', 'r') as f:\n",
    "        for row in csv.reader(f):\n",
    "            ws.append(row)\n",
    "    wb.save('Error'+thing+'.xlsx') \n",
    "\n",
    "import pandas as pd\n",
    "\n",
    "df1 = pd.read_excel(\"Error1.xlsx\")\n",
    "df2 = pd.read_excel(\"Error2.xlsx\") \n",
    "df3 = pd.read_excel(\"Error3.xlsx\")\n",
    "df4 = pd.read_excel(\"Error4.xlsx\")\n",
    "df5 = pd.read_excel(\"Error5.xlsx\")\n",
    "df6 = pd.read_excel(\"Error6.xlsx\")\n",
    "df7 = pd.read_excel(\"Error7.xlsx\")\n",
    "df8 = pd.read_excel(\"Error8.xlsx\")\n",
    "\n",
    "\n",
    "df = pd.concat([df1, df2, df3, df4, df5, df6, df7, df8])\n",
    "\n",
    "df.to_excel(\"df.xlsx\", index = False)"
   ]
  },
  {
   "cell_type": "code",
   "execution_count": null,
   "metadata": {
    "collapsed": true
   },
   "outputs": [],
   "source": []
  }
 ],
 "metadata": {
  "kernelspec": {
   "display_name": "Python 3",
   "language": "python",
   "name": "python3"
  },
  "language_info": {
   "codemirror_mode": {
    "name": "ipython",
    "version": 3
   },
   "file_extension": ".py",
   "mimetype": "text/x-python",
   "name": "python",
   "nbconvert_exporter": "python",
   "pygments_lexer": "ipython3",
   "version": "3.6.2"
  }
 },
 "nbformat": 4,
 "nbformat_minor": 2
}
